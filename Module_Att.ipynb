{
 "cells": [
  {
   "cell_type": "markdown",
   "id": "1302cd0e",
   "metadata": {},
   "source": [
    "*By: B830459\\\n",
    "Date: 20/1/2023*"
   ]
  },
  {
   "cell_type": "markdown",
   "id": "def5d53f",
   "metadata": {},
   "source": [
    "## Program Explanation: "
   ]
  },
  {
   "cell_type": "markdown",
   "id": "1a2490d3",
   "metadata": {},
   "source": [
    "The program returns an output in the form of a dataframe. The dataframe includes information about a specific week, from a specific module, which are both specified by the user. The infromation in mind is about all the events that have happend during the week and their *Time*, *Room*, *Type* and *Average Attendance* percentage. \t\n",
    "\n",
    "In order for the above to be executed the user, must specify the fucntion **module_attendance ( )** parameters.\\\n",
    "Those are a dictionary with all the modules names as keys and their formatted dataframe form from **neat_table( )** as values. Alongside the module name and week that are desired to be examined should be specified as a string type.\n",
    "The module name should be taken from the dictionary keys. Whilist the week's should be specified under the format \"W\" + the week number in mind, such as \"W5\" for week 5.\n",
    "\n",
    "The function will highlight the average attendance for each event, given the set rules:\n",
    "- If average attendance is below 50% - highlight in red\n",
    "- If average attendance is above 50% but below 70%  - highlight in yellow\n",
    "- If average attendance is above 70% - highlight in green\n",
    "\n",
    "In the case that an invalid module name or week has been entered the program will notify the user that such module or week does not exist amongst the provided data. "
   ]
  },
  {
   "cell_type": "markdown",
   "id": "91618918",
   "metadata": {},
   "source": [
    "## Imports"
   ]
  },
  {
   "cell_type": "code",
   "execution_count": 1,
   "id": "a9a3f3c0",
   "metadata": {},
   "outputs": [],
   "source": [
    "import numpy as np\n",
    "import pandas as pd\n",
    "import matplotlib.pyplot as plt\n",
    "import sqlite3\n",
    "from IPython.display import clear_output\n",
    "from tkinter import *"
   ]
  },
  {
   "cell_type": "markdown",
   "id": "4d831961",
   "metadata": {},
   "source": [
    "## Database Imports"
   ]
  },
  {
   "cell_type": "code",
   "execution_count": 2,
   "id": "9f117f0e",
   "metadata": {},
   "outputs": [],
   "source": [
    "def import_from_db(df_name):\n",
    "    \"\"\"\n",
    "    \n",
    "    Imports SQL tables from CWDatabase.db\n",
    "    in the form of pandas dataframe.\n",
    "    \n",
    "    The function requries to be provided with:\n",
    "    df_name -> the SQL table name as a \n",
    "    string type\n",
    "    \n",
    "    \n",
    "    \"\"\"\n",
    "    conn = sqlite3.connect(\"CWDatabase.db\")\n",
    "    \n",
    "    table_to_get = \"SELECT * FROM \" + df_name\n",
    "    import_sql = pd.read_sql(table_to_get, conn)\n",
    "    \n",
    "    conn.close()\n",
    "    \n",
    "    return import_sql"
   ]
  },
  {
   "cell_type": "markdown",
   "id": "bc263d38",
   "metadata": {},
   "source": [
    "## Extracing information from imported database tables"
   ]
  },
  {
   "cell_type": "code",
   "execution_count": 3,
   "id": "437d4820",
   "metadata": {},
   "outputs": [],
   "source": [
    "def neat_table(df, timetable):\n",
    "    \"\"\"\n",
    "     \n",
    "    Creates a dataframe, provided:\n",
    "    \n",
    "    df -> the students attendance SQL \n",
    "    table name as a string type\n",
    "    timetable -> the modules timetable SQL \n",
    "    table name as a string type\n",
    "    \n",
    "    The newly created dataframe, sets the \n",
    "    \"Timetable\" type table from the \n",
    "    database and its respective values as \n",
    "    index for the \"Records\" table.\n",
    "    Each individual students attendance \n",
    "    is represented under a column, \n",
    "    matching the respective multi index \n",
    "    for the specific class/lecture.\n",
    "    \n",
    "    \"\"\"\n",
    "    # Modifying the student records table, so that it includes a session id KEY \n",
    "    indexed = import_from_db(df).set_index(\"student_id\")\n",
    "    records = indexed.T\n",
    "    empty = []\n",
    "    for i in records.index:\n",
    "        get_after = \"Session_ID:_\"\n",
    "        result = i.split(get_after, 1)\n",
    "        empty.append(int(result[1]))\n",
    "    \n",
    "    records[\"sess_id\"] = empty\n",
    "    \n",
    "    # Importing the timetable \n",
    "    schedule = import_from_db(timetable)\n",
    "    \n",
    "    # Merging the updated records DF with the timetable DF\n",
    "    complete_module = pd.merge(schedule, records, on = \"sess_id\")\n",
    "    \n",
    "    # Indexes that have to be set of the concated DF\n",
    "    index = [\"sem\", \"week\", \"sess_id\", \"date\", \"time\", \"type\", \"room\"]\n",
    "    \n",
    "    # Setting those indexes to work \n",
    "    complete_module.set_index(index, inplace = True)\n",
    "    \n",
    "    # Fillining all Nans to 0\n",
    "    complete_module = complete_module.fillna(0)\n",
    "    \n",
    "    return complete_module"
   ]
  },
  {
   "cell_type": "markdown",
   "id": "f5796706",
   "metadata": {},
   "source": [
    "## Styling of end output"
   ]
  },
  {
   "cell_type": "code",
   "execution_count": 4,
   "id": "e5c966b0",
   "metadata": {},
   "outputs": [],
   "source": [
    "def bcolor_code(value):\n",
    "    \"\"\"\n",
    "    \n",
    "    Sets background colors \n",
    "    of table cells value.\n",
    "    \n",
    "    \"\"\"\n",
    "    \n",
    "    if value < 50:\n",
    "        colour = \"#FFB3B3\"\n",
    "    elif value < 70:\n",
    "        colour = \"#FFD966\"\n",
    "    else:\n",
    "        colour = \"#77DD77\"\n",
    "    styler = f\"background-color:{colour}\"\n",
    "    \n",
    "    return styler"
   ]
  },
  {
   "cell_type": "markdown",
   "id": "38e06340",
   "metadata": {},
   "source": [
    "## Main"
   ]
  },
  {
   "cell_type": "code",
   "execution_count": 5,
   "id": "6fbf2e9b",
   "metadata": {},
   "outputs": [],
   "source": [
    "def module_attendance(func, entry_df, entry_week):\n",
    "    \"\"\"\n",
    "    \n",
    "    Provides a dataframe that lists out all of the \n",
    "    events(classes/lectures) from a week for a specified module \n",
    "    and the average attendance percentage for each of it. \n",
    "    \n",
    "    The function requries to be provided with:\n",
    "    func -> a dictionary containing as its values, \n",
    "    dataframes for the individual modules, being processed\n",
    "    under the neat_table( ) function\n",
    "    entry_df -> a key value from the dictionary \n",
    "    (module name) in a string type \n",
    "    entry_week -> the week that the end user would \n",
    "    like to observe in a string type\n",
    "\n",
    "    entry_week must follow the format upper case\n",
    "    followed by the week number e.g. \"W5\".\n",
    "    \n",
    "    \n",
    "    \"\"\"\n",
    "    # Check if module does exist in the provided dictionary\n",
    "    while True:\n",
    "        if entry_df in func.keys(): \n",
    "            df = func[entry_df]\n",
    "            break\n",
    "\n",
    "        else:\n",
    "            print(\"You have not selected a module to review\")\n",
    "            print(\"Try again\")\n",
    "            return\n",
    "    \n",
    "    # From the provided module above, check if the provided weeks does exist \n",
    "    # extract weeks present in the module\n",
    "    rawdf = df.reset_index()\n",
    "    rawdf = rawdf[\"week\"].tolist()\n",
    "    weeks_in_module = list(set(rawdf))\n",
    "    \n",
    "    # Check if week exist\n",
    "    while True:\n",
    "        if entry_week in weeks_in_module:\n",
    "            break\n",
    "        else:\n",
    "            print(\"You have not selected a week to review\")\n",
    "            print(\"Try again\")\n",
    "            return\n",
    "        \n",
    "    # Calculations\n",
    "    actual_att = df.groupby([\"week\",\"sess_id\", \"time\", \"room\", \"type\"]).sum().sum(1)\n",
    "    ideal_att = df.groupby([\"week\",\"sess_id\", \"time\", \"room\", \"type\"]).count().sum(1)\n",
    "    \n",
    "    # Return new data frame for output containing fullset of weeks\n",
    "    output = pd.DataFrame((actual_att / ideal_att * 100).round(2)).droplevel(1)\n",
    "    output.columns = [\"Attendance %\"]\n",
    "    \n",
    "    # Printout final result based on student_id input\n",
    "    output = output.loc[entry_week]\n",
    "    \n",
    "    # Formating end output visable to user\n",
    "    output.index.set_names([\"Time\", \"Room\", \"Type\"], inplace=True)\n",
    "    output = output.style.format({\"Attendance %\": \"{:.2f}\"}).applymap(bcolor_code)\n",
    "    \n",
    "    print(\"Attendance record for \" + entry_df.upper() + \" Week \" + entry_week[1:] + \":\")\n",
    "    display(output)"
   ]
  },
  {
   "cell_type": "markdown",
   "id": "650414c5",
   "metadata": {},
   "source": [
    "## Related to GUI Tkinter Dropdown Menus"
   ]
  },
  {
   "cell_type": "code",
   "execution_count": 6,
   "id": "d849d40e",
   "metadata": {},
   "outputs": [],
   "source": [
    "def week_getter(func):\n",
    "    \"\"\"\n",
    "    \n",
    "    A new dictionary is created from a provided one.\n",
    "    The new dictionary has as its:\n",
    "    keys -> module names\n",
    "    values -> the names of every week available in the \n",
    "              module\n",
    "              \n",
    "    The function requries to be provided with:\n",
    "    \n",
    "    func -> a dictionary containing as its values, \n",
    "    DataFrames for the individual modules, being processed\n",
    "    under the neat_table( ) function\n",
    "    \n",
    "    \"\"\"\n",
    "    week_dict = {}\n",
    "    for i in func:\n",
    "        week_list = []\n",
    "        for x in func[i].reset_index()[\"week\"].to_list():\n",
    "            if x not in week_list:\n",
    "                week_list.append(x)\n",
    "    \n",
    "        week_dict[i] = week_list\n",
    "        \n",
    "    return week_dict"
   ]
  },
  {
   "cell_type": "markdown",
   "id": "bb5c72dc",
   "metadata": {},
   "source": [
    "## Testing"
   ]
  },
  {
   "cell_type": "code",
   "execution_count": 7,
   "id": "72daa3a3",
   "metadata": {},
   "outputs": [],
   "source": [
    "def import_modules():\n",
    "    \"\"\"\n",
    "    \n",
    "    The function intiliazes all of the modules information \n",
    "    into \"neat\" dataframes, by making use of the \n",
    "    neat_table( ) function.\n",
    "    \n",
    "    The function is used predomentatly as a \n",
    "    dictionary to access multiple modules \n",
    "    attendances. \n",
    "    \n",
    "    \"\"\"\n",
    "    \n",
    "    coa111 = neat_table(\"dfcoa111\", \"sesscoa111\")\n",
    "    coa122 = neat_table(\"dfcoa122\", \"sesscoa122\")\n",
    "    \n",
    "    return locals()"
   ]
  },
  {
   "cell_type": "code",
   "execution_count": 8,
   "id": "604d44b2",
   "metadata": {},
   "outputs": [
    {
     "name": "stdout",
     "output_type": "stream",
     "text": [
      "Attendance record for COA122 Week 4:\n"
     ]
    },
    {
     "data": {
      "text/html": [
       "<style  type=\"text/css\" >\n",
       "#T_38628_row0_col0,#T_38628_row3_col0{\n",
       "            background-color: #77DD77;\n",
       "        }#T_38628_row1_col0,#T_38628_row2_col0{\n",
       "            background-color: #FFB3B3;\n",
       "        }</style><table id=\"T_38628_\" ><thead>    <tr>        <th class=\"blank\" ></th>        <th class=\"blank\" ></th>        <th class=\"blank level0\" ></th>        <th class=\"col_heading level0 col0\" >Attendance %</th>    </tr>    <tr>        <th class=\"index_name level0\" >Time</th>        <th class=\"index_name level1\" >Room</th>        <th class=\"index_name level2\" >Type</th>        <th class=\"blank\" ></th>    </tr></thead><tbody>\n",
       "                <tr>\n",
       "                        <th id=\"T_38628_level0_row0\" class=\"row_heading level0 row0\" >14:00 - 16:00</th>\n",
       "                        <th id=\"T_38628_level1_row0\" class=\"row_heading level1 row0\" >CC012</th>\n",
       "                        <th id=\"T_38628_level2_row0\" class=\"row_heading level2 row0\" >Lecture</th>\n",
       "                        <td id=\"T_38628_row0_col0\" class=\"data row0 col0\" >74.37</td>\n",
       "            </tr>\n",
       "            <tr>\n",
       "                        <th id=\"T_38628_level0_row1\" class=\"row_heading level0 row1\" >09:00 - 11:00</th>\n",
       "                        <th id=\"T_38628_level1_row1\" class=\"row_heading level1 row1\" >N001...</th>\n",
       "                        <th id=\"T_38628_level2_row1\" class=\"row_heading level2 row1\" >Computer Lab</th>\n",
       "                        <td id=\"T_38628_row1_col0\" class=\"data row1 col0\" >25.63</td>\n",
       "            </tr>\n",
       "            <tr>\n",
       "                        <th id=\"T_38628_level0_row2\" class=\"row_heading level0 row2\" >11:00 - 13:00</th>\n",
       "                        <th id=\"T_38628_level1_row2\" class=\"row_heading level1 row2\" >N001...</th>\n",
       "                        <th id=\"T_38628_level2_row2\" class=\"row_heading level2 row2\" >Computer Lab</th>\n",
       "                        <td id=\"T_38628_row2_col0\" class=\"data row2 col0\" >24.62</td>\n",
       "            </tr>\n",
       "            <tr>\n",
       "                        <th id=\"T_38628_level0_row3\" class=\"row_heading level0 row3\" >12:00 - 13:00</th>\n",
       "                        <th id=\"T_38628_level1_row3\" class=\"row_heading level1 row3\" >CC011</th>\n",
       "                        <th id=\"T_38628_level2_row3\" class=\"row_heading level2 row3\" >Personal Best</th>\n",
       "                        <td id=\"T_38628_row3_col0\" class=\"data row3 col0\" >74.37</td>\n",
       "            </tr>\n",
       "    </tbody></table>"
      ],
      "text/plain": [
       "<pandas.io.formats.style.Styler at 0x7f7bc0f52e50>"
      ]
     },
     "metadata": {},
     "output_type": "display_data"
    }
   ],
   "source": [
    "module_attendance(import_modules(), \"coa122\", \"W4\")"
   ]
  },
  {
   "cell_type": "code",
   "execution_count": 9,
   "id": "d3713038",
   "metadata": {},
   "outputs": [
    {
     "name": "stdout",
     "output_type": "stream",
     "text": [
      "Attendance record for COA111 Week 2:\n"
     ]
    },
    {
     "data": {
      "text/html": [
       "<style  type=\"text/css\" >\n",
       "#T_9966c_row0_col0{\n",
       "            background-color: #FFD966;\n",
       "        }#T_9966c_row1_col0{\n",
       "            background-color: #77DD77;\n",
       "        }</style><table id=\"T_9966c_\" ><thead>    <tr>        <th class=\"blank\" ></th>        <th class=\"blank\" ></th>        <th class=\"blank level0\" ></th>        <th class=\"col_heading level0 col0\" >Attendance %</th>    </tr>    <tr>        <th class=\"index_name level0\" >Time</th>        <th class=\"index_name level1\" >Room</th>        <th class=\"index_name level2\" >Type</th>        <th class=\"blank\" ></th>    </tr></thead><tbody>\n",
       "                <tr>\n",
       "                        <th id=\"T_9966c_level0_row0\" class=\"row_heading level0 row0\" >10:00 - 11:00</th>\n",
       "                        <th id=\"T_9966c_level1_row0\" class=\"row_heading level1 row0\" >SMB014</th>\n",
       "                        <th id=\"T_9966c_level2_row0\" class=\"row_heading level2 row0\" >Lecture</th>\n",
       "                        <td id=\"T_9966c_row0_col0\" class=\"data row0 col0\" >69.35</td>\n",
       "            </tr>\n",
       "            <tr>\n",
       "                        <th id=\"T_9966c_level0_row1\" class=\"row_heading level0 row1\" >14:00 - 15:00</th>\n",
       "                        <th id=\"T_9966c_level1_row1\" class=\"row_heading level1 row1\" >CC011</th>\n",
       "                        <th id=\"T_9966c_level2_row1\" class=\"row_heading level2 row1\" >Lecture</th>\n",
       "                        <td id=\"T_9966c_row1_col0\" class=\"data row1 col0\" >80.90</td>\n",
       "            </tr>\n",
       "    </tbody></table>"
      ],
      "text/plain": [
       "<pandas.io.formats.style.Styler at 0x7f7bc0f6dee0>"
      ]
     },
     "metadata": {},
     "output_type": "display_data"
    }
   ],
   "source": [
    "module_attendance(import_modules(), \"coa111\", \"W2\")"
   ]
  },
  {
   "cell_type": "code",
   "execution_count": 10,
   "id": "7396783c",
   "metadata": {},
   "outputs": [
    {
     "name": "stdout",
     "output_type": "stream",
     "text": [
      "You have not selected a module to review\n",
      "Try again\n"
     ]
    }
   ],
   "source": [
    "module_attendance(import_modules(), \"invalid_module\", \"W4\")"
   ]
  },
  {
   "cell_type": "code",
   "execution_count": 11,
   "id": "006505bd",
   "metadata": {},
   "outputs": [
    {
     "name": "stdout",
     "output_type": "stream",
     "text": [
      "You have not selected a week to review\n",
      "Try again\n"
     ]
    }
   ],
   "source": [
    "module_attendance(import_modules(), \"coa111\", \"invalid_week\")"
   ]
  },
  {
   "cell_type": "code",
   "execution_count": 12,
   "id": "1de77be0",
   "metadata": {},
   "outputs": [
    {
     "data": {
      "text/plain": [
       "{'coa111': ['W1', 'W2', 'W3', 'W4', 'W5'],\n",
       " 'coa122': ['W1', 'W2', 'W3', 'W4', 'W5', 'W6']}"
      ]
     },
     "execution_count": 12,
     "metadata": {},
     "output_type": "execute_result"
    }
   ],
   "source": [
    "week_getter(import_modules())"
   ]
  }
 ],
 "metadata": {
  "kernelspec": {
   "display_name": "Python 3 (ipykernel)",
   "language": "python",
   "name": "python3"
  },
  "language_info": {
   "codemirror_mode": {
    "name": "ipython",
    "version": 3
   },
   "file_extension": ".py",
   "mimetype": "text/x-python",
   "name": "python",
   "nbconvert_exporter": "python",
   "pygments_lexer": "ipython3",
   "version": "3.8.8"
  }
 },
 "nbformat": 4,
 "nbformat_minor": 5
}
